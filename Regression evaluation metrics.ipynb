{
 "cells": [
  {
   "cell_type": "code",
   "execution_count": 25,
   "id": "e41cc117",
   "metadata": {},
   "outputs": [],
   "source": [
    "# hello guys today i will teach you about the regression metrics\n",
    "# as i have did few video on regression \n",
    "# today we will find out the error by different equations\n",
    "# if you are new to my channel please subscribe to my channel\n",
    "# lets continue"
   ]
  },
  {
   "cell_type": "code",
   "execution_count": 26,
   "id": "6d87beb3",
   "metadata": {},
   "outputs": [],
   "source": [
    "import statistics as st\n"
   ]
  },
  {
   "cell_type": "code",
   "execution_count": 29,
   "id": "79576036",
   "metadata": {},
   "outputs": [
    {
     "name": "stdout",
     "output_type": "stream",
     "text": [
      "458.3333333333333\n"
     ]
    }
   ],
   "source": [
    "# as example lets define a function firts\n",
    "sample =[500,600,700, 300, 400,250]\n",
    "print(st.mean(sample))"
   ]
  },
  {
   "cell_type": "code",
   "execution_count": 30,
   "id": "a6e130b0",
   "metadata": {},
   "outputs": [
    {
     "name": "stdout",
     "output_type": "stream",
     "text": [
      "159.20810978785667\n"
     ]
    }
   ],
   "source": [
    "print(st.pstdev(sample))"
   ]
  },
  {
   "cell_type": "code",
   "execution_count": 31,
   "id": "5b7a877c",
   "metadata": {},
   "outputs": [
    {
     "name": "stdout",
     "output_type": "stream",
     "text": [
      "25347.222222222223\n"
     ]
    }
   ],
   "source": [
    "print(st.pvariance(sample))"
   ]
  },
  {
   "cell_type": "code",
   "execution_count": 32,
   "id": "c7170457",
   "metadata": {},
   "outputs": [
    {
     "data": {
      "text/plain": [
       "0.9571734475374732"
      ]
     },
     "execution_count": 32,
     "metadata": {},
     "output_type": "execute_result"
    }
   ],
   "source": [
    "# import regression library first \n",
    "from sklearn.metrics import explained_variance_score\n",
    "# for 1d take one example\n",
    "y_true=[3,-0.5,2,7]\n",
    "y_pred=[2.5,0.0,2,8]\n",
    "explained_variance_score(y_true,y_pred)"
   ]
  },
  {
   "cell_type": "code",
   "execution_count": 33,
   "id": "e8d861b2",
   "metadata": {},
   "outputs": [
    {
     "data": {
      "text/plain": [
       "0.9838709677419355"
      ]
     },
     "execution_count": 33,
     "metadata": {},
     "output_type": "execute_result"
    }
   ],
   "source": [
    "# lets for 2d\n",
    "y_true=[[0.5,1],[-1,1],[7,-6]]\n",
    "y_pred=[[0,2],[-1,2],[8,-5]]\n",
    "explained_variance_score(y_true,y_pred, multioutput='uniform_average')"
   ]
  },
  {
   "cell_type": "code",
   "execution_count": 35,
   "id": "8f0f268e",
   "metadata": {},
   "outputs": [
    {
     "data": {
      "text/plain": [
       "1"
      ]
     },
     "execution_count": 35,
     "metadata": {},
     "output_type": "execute_result"
    }
   ],
   "source": [
    "from sklearn.metrics import max_error\n",
    "y_true=[3,2,7,1]\n",
    "y_pred=[4,2,7,1]\n",
    "max_error(y_true,y_pred)"
   ]
  },
  {
   "cell_type": "code",
   "execution_count": 36,
   "id": "ad0ec000",
   "metadata": {},
   "outputs": [],
   "source": [
    "# lets apply in our own dataset\n",
    "import numpy as np \n",
    "import matplotlib.pyplot as plt\n",
    "import pandas as pd \n",
    "dataset=pd.read_csv(\"C://Users//yasir//Desktop//Python//Youtube//dataset.csv\")"
   ]
  },
  {
   "cell_type": "code",
   "execution_count": 37,
   "id": "dc5d33bb",
   "metadata": {},
   "outputs": [
    {
     "data": {
      "text/html": [
       "<div>\n",
       "<style scoped>\n",
       "    .dataframe tbody tr th:only-of-type {\n",
       "        vertical-align: middle;\n",
       "    }\n",
       "\n",
       "    .dataframe tbody tr th {\n",
       "        vertical-align: top;\n",
       "    }\n",
       "\n",
       "    .dataframe thead th {\n",
       "        text-align: right;\n",
       "    }\n",
       "</style>\n",
       "<table border=\"1\" class=\"dataframe\">\n",
       "  <thead>\n",
       "    <tr style=\"text-align: right;\">\n",
       "      <th></th>\n",
       "      <th>Experinces</th>\n",
       "      <th>Salary</th>\n",
       "    </tr>\n",
       "  </thead>\n",
       "  <tbody>\n",
       "    <tr>\n",
       "      <th>0</th>\n",
       "      <td>1.1</td>\n",
       "      <td>39343</td>\n",
       "    </tr>\n",
       "    <tr>\n",
       "      <th>1</th>\n",
       "      <td>1.3</td>\n",
       "      <td>46205</td>\n",
       "    </tr>\n",
       "    <tr>\n",
       "      <th>2</th>\n",
       "      <td>1.5</td>\n",
       "      <td>37731</td>\n",
       "    </tr>\n",
       "    <tr>\n",
       "      <th>3</th>\n",
       "      <td>2.0</td>\n",
       "      <td>43525</td>\n",
       "    </tr>\n",
       "    <tr>\n",
       "      <th>4</th>\n",
       "      <td>2.2</td>\n",
       "      <td>39891</td>\n",
       "    </tr>\n",
       "    <tr>\n",
       "      <th>5</th>\n",
       "      <td>2.9</td>\n",
       "      <td>56642</td>\n",
       "    </tr>\n",
       "    <tr>\n",
       "      <th>6</th>\n",
       "      <td>3.0</td>\n",
       "      <td>60150</td>\n",
       "    </tr>\n",
       "    <tr>\n",
       "      <th>7</th>\n",
       "      <td>3.2</td>\n",
       "      <td>54445</td>\n",
       "    </tr>\n",
       "    <tr>\n",
       "      <th>8</th>\n",
       "      <td>3.2</td>\n",
       "      <td>64445</td>\n",
       "    </tr>\n",
       "    <tr>\n",
       "      <th>9</th>\n",
       "      <td>3.7</td>\n",
       "      <td>57189</td>\n",
       "    </tr>\n",
       "    <tr>\n",
       "      <th>10</th>\n",
       "      <td>3.9</td>\n",
       "      <td>63218</td>\n",
       "    </tr>\n",
       "    <tr>\n",
       "      <th>11</th>\n",
       "      <td>4.0</td>\n",
       "      <td>55789</td>\n",
       "    </tr>\n",
       "    <tr>\n",
       "      <th>12</th>\n",
       "      <td>4.0</td>\n",
       "      <td>56957</td>\n",
       "    </tr>\n",
       "    <tr>\n",
       "      <th>13</th>\n",
       "      <td>4.1</td>\n",
       "      <td>57081</td>\n",
       "    </tr>\n",
       "    <tr>\n",
       "      <th>14</th>\n",
       "      <td>4.5</td>\n",
       "      <td>61111</td>\n",
       "    </tr>\n",
       "    <tr>\n",
       "      <th>15</th>\n",
       "      <td>4.9</td>\n",
       "      <td>67938</td>\n",
       "    </tr>\n",
       "    <tr>\n",
       "      <th>16</th>\n",
       "      <td>5.1</td>\n",
       "      <td>66029</td>\n",
       "    </tr>\n",
       "    <tr>\n",
       "      <th>17</th>\n",
       "      <td>5.3</td>\n",
       "      <td>83088</td>\n",
       "    </tr>\n",
       "    <tr>\n",
       "      <th>18</th>\n",
       "      <td>5.9</td>\n",
       "      <td>81363</td>\n",
       "    </tr>\n",
       "    <tr>\n",
       "      <th>19</th>\n",
       "      <td>6.0</td>\n",
       "      <td>93940</td>\n",
       "    </tr>\n",
       "    <tr>\n",
       "      <th>20</th>\n",
       "      <td>6.8</td>\n",
       "      <td>91738</td>\n",
       "    </tr>\n",
       "    <tr>\n",
       "      <th>21</th>\n",
       "      <td>7.1</td>\n",
       "      <td>98273</td>\n",
       "    </tr>\n",
       "    <tr>\n",
       "      <th>22</th>\n",
       "      <td>7.9</td>\n",
       "      <td>101303</td>\n",
       "    </tr>\n",
       "    <tr>\n",
       "      <th>23</th>\n",
       "      <td>8.2</td>\n",
       "      <td>113812</td>\n",
       "    </tr>\n",
       "    <tr>\n",
       "      <th>24</th>\n",
       "      <td>8.7</td>\n",
       "      <td>109431</td>\n",
       "    </tr>\n",
       "    <tr>\n",
       "      <th>25</th>\n",
       "      <td>9.0</td>\n",
       "      <td>105582</td>\n",
       "    </tr>\n",
       "    <tr>\n",
       "      <th>26</th>\n",
       "      <td>9.5</td>\n",
       "      <td>116969</td>\n",
       "    </tr>\n",
       "    <tr>\n",
       "      <th>27</th>\n",
       "      <td>9.6</td>\n",
       "      <td>112635</td>\n",
       "    </tr>\n",
       "    <tr>\n",
       "      <th>28</th>\n",
       "      <td>10.3</td>\n",
       "      <td>122391</td>\n",
       "    </tr>\n",
       "    <tr>\n",
       "      <th>29</th>\n",
       "      <td>10.5</td>\n",
       "      <td>121872</td>\n",
       "    </tr>\n",
       "  </tbody>\n",
       "</table>\n",
       "</div>"
      ],
      "text/plain": [
       "    Experinces   Salary\n",
       "0           1.1   39343\n",
       "1           1.3   46205\n",
       "2           1.5   37731\n",
       "3           2.0   43525\n",
       "4           2.2   39891\n",
       "5           2.9   56642\n",
       "6           3.0   60150\n",
       "7           3.2   54445\n",
       "8           3.2   64445\n",
       "9           3.7   57189\n",
       "10          3.9   63218\n",
       "11          4.0   55789\n",
       "12          4.0   56957\n",
       "13          4.1   57081\n",
       "14          4.5   61111\n",
       "15          4.9   67938\n",
       "16          5.1   66029\n",
       "17          5.3   83088\n",
       "18          5.9   81363\n",
       "19          6.0   93940\n",
       "20          6.8   91738\n",
       "21          7.1   98273\n",
       "22          7.9  101303\n",
       "23          8.2  113812\n",
       "24          8.7  109431\n",
       "25          9.0  105582\n",
       "26          9.5  116969\n",
       "27          9.6  112635\n",
       "28         10.3  122391\n",
       "29         10.5  121872"
      ]
     },
     "execution_count": 37,
     "metadata": {},
     "output_type": "execute_result"
    }
   ],
   "source": [
    "dataset"
   ]
  },
  {
   "cell_type": "code",
   "execution_count": 38,
   "id": "1a8797c5",
   "metadata": {},
   "outputs": [],
   "source": [
    "# define x and y \n",
    "X=dataset.iloc[:,:-1].values\n",
    "y=dataset.iloc[:,1].values"
   ]
  },
  {
   "cell_type": "code",
   "execution_count": 39,
   "id": "1dae4579",
   "metadata": {},
   "outputs": [],
   "source": [
    "# split data training and test\n",
    "from sklearn.model_selection import train_test_split\n",
    "X_train, X_test,y_train,y_test=train_test_split(X,y,test_size=0.3,random_state=0)"
   ]
  },
  {
   "cell_type": "code",
   "execution_count": 41,
   "id": "f0601f7b",
   "metadata": {},
   "outputs": [
    {
     "data": {
      "text/plain": [
       "LinearRegression()"
      ]
     },
     "execution_count": 41,
     "metadata": {},
     "output_type": "execute_result"
    }
   ],
   "source": [
    "# import regression library\n",
    "from sklearn.linear_model import LinearRegression\n",
    "reg=LinearRegression()\n",
    "reg.fit(X_train,y_train)"
   ]
  },
  {
   "cell_type": "code",
   "execution_count": 43,
   "id": "80959f1d",
   "metadata": {},
   "outputs": [
    {
     "data": {
      "text/plain": [
       "array([ 40817.75673712, 123188.24906078,  65154.49310548,  63282.43646176,\n",
       "       115700.0224859 , 108211.79591102, 116636.05080776,  64218.46478362,\n",
       "        76386.83296779])"
      ]
     },
     "execution_count": 43,
     "metadata": {},
     "output_type": "execute_result"
    }
   ],
   "source": [
    "# predict\n",
    "y_predict=reg.predict(X_test)\n",
    "y_predict"
   ]
  },
  {
   "cell_type": "code",
   "execution_count": 44,
   "id": "4afdd770",
   "metadata": {},
   "outputs": [
    {
     "data": {
      "image/png": "[encoded data removed]",
      "text/plain": [
       "<Figure size 432x288 with 1 Axes>"
      ]
     },
     "metadata": {
      "needs_background": "light"
     },
     "output_type": "display_data"
    }
   ],
   "source": [
    "# plot , i will copy the code\n",
    "plt.scatter(X_train,y_train, color='red')\n",
    "plt.plot(X_train,reg.predict(X_train), color='Blue')\n",
    "plt.title(\"Linear Regression\")\n",
    "plt.xlabel(\"Years of Employee\")\n",
    "plt.ylabel(\"Saleries of Employee\")\n",
    "plt.show()"
   ]
  },
  {
   "cell_type": "code",
   "execution_count": 45,
   "id": "e93baef8",
   "metadata": {},
   "outputs": [
    {
     "data": {
      "text/plain": [
       "3737.9777324215966"
      ]
     },
     "execution_count": 45,
     "metadata": {},
     "output_type": "execute_result"
    }
   ],
   "source": [
    "from sklearn.metrics import mean_absolute_error\n",
    "mean_absolute_error(y_test,y_predict)"
   ]
  },
  {
   "cell_type": "code",
   "execution_count": 46,
   "id": "108719af",
   "metadata": {},
   "outputs": [
    {
     "data": {
      "text/plain": [
       "23379533.604531426"
      ]
     },
     "execution_count": 46,
     "metadata": {},
     "output_type": "execute_result"
    }
   ],
   "source": [
    "from sklearn.metrics import mean_squared_error\n",
    "mean_squared_error(y_test,y_predict)"
   ]
  },
  {
   "cell_type": "code",
   "execution_count": 48,
   "id": "68f8e13b",
   "metadata": {},
   "outputs": [
    {
     "data": {
      "text/plain": [
       "4835.238732940849"
      ]
     },
     "execution_count": 48,
     "metadata": {},
     "output_type": "execute_result"
    }
   ],
   "source": [
    "from math import sqrt\n",
    "from sklearn.metrics import mean_squared_error\n",
    "results=sqrt(mean_squared_error(y_test,y_predict))\n",
    "results"
   ]
  },
  {
   "cell_type": "code",
   "execution_count": 49,
   "id": "9dcbb649",
   "metadata": {},
   "outputs": [
    {
     "data": {
      "text/plain": [
       "0.07605558139513799"
      ]
     },
     "execution_count": 49,
     "metadata": {},
     "output_type": "execute_result"
    }
   ],
   "source": [
    "from sklearn.metrics import mean_squared_log_error\n",
    "np.sqrt(mean_squared_log_error(y_test,y_predict))\n"
   ]
  },
  {
   "cell_type": "code",
   "execution_count": null,
   "id": "57d584f5",
   "metadata": {},
   "outputs": [],
   "source": [
    "# these are the error you can used for your own dataset \n",
    "# thanks for watching please subscribe for more video\n",
    "# see you in the next video  \n",
    "# thanks agian for your kind support \n",
    "# if you have any question please leave in the comments box\n",
    "# bye bye"
   ]
  }
 ],
 "metadata": {
  "kernelspec": {
   "display_name": "Python 3",
   "language": "python",
   "name": "python3"
  },
  "language_info": {
   "codemirror_mode": {
    "name": "ipython",
    "version": 3
   },
   "file_extension": ".py",
   "mimetype": "text/x-python",
   "name": "python",
   "nbconvert_exporter": "python",
   "pygments_lexer": "ipython3",
   "version": "3.8.8"
  }
 },
 "nbformat": 4,
 "nbformat_minor": 5
}
